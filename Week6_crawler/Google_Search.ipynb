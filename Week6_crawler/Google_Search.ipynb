{
 "cells": [
  {
   "cell_type": "code",
   "execution_count": 10,
   "id": "0a2654ff",
   "metadata": {
    "scrolled": true
   },
   "outputs": [
    {
     "name": "stdout",
     "output_type": "stream",
     "text": [
      "標題 : 寒流- 維基百科，自由的百科全書zh.wikipedia.org › zh-tw › 寒潮\n",
      "網址 : /url?q=https://zh.wikipedia.org/zh-tw/%25E5%25AF%2592%25E6%25BD%25AE&sa=U&ved=2ahUKEwiYh4LBiP-BAxXGcfUHHdvyA0EQFnoECAkQAg&usg=AOvVaw2Piyg8nJyqmADq6c38xTfd\n",
      "\n",
      "標題 : 低溫特報| 交通部中央氣象署www.cwa.gov.tw › Warning\n",
      "網址 : /url?q=https://www.cwa.gov.tw/V8/C/P/Warning/W28.html&sa=U&ved=2ahUKEwiYh4LBiP-BAxXGcfUHHdvyA0EQFnoECAsQAg&usg=AOvVaw0-FJUjIEJcSBZoMjcNf0Fe\n",
      "\n",
      "標題 : 寒流- 翰林雲端學院www.ehanlin.com.tw › app › keyword › 國中 › 地理 › 寒流\n",
      "網址 : /url?q=https://www.ehanlin.com.tw/app/keyword/%25E5%259C%258B%25E4%25B8%25AD/%25E5%259C%25B0%25E7%2590%2586/%25E5%25AF%2592%25E6%25B5%2581.html&sa=U&ved=2ahUKEwiYh4LBiP-BAxXGcfUHHdvyA0EQFnoECAoQAg&usg=AOvVaw1p7SDKzxOP-Oev9d1vr625\n",
      "\n",
      "標題 : 寒流(影集) - 維基百科，自由的百科全書zh.wikipedia.org › zh-tw › 寒流_(影集)\n",
      "網址 : /url?q=https://zh.wikipedia.org/zh-tw/%25E5%25AF%2592%25E6%25B5%2581_(%25E5%25BD%25B1%25E9%259B%2586)&sa=U&ved=2ahUKEwiYh4LBiP-BAxXGcfUHHdvyA0EQFnoECAQQAg&usg=AOvVaw2abtZjleBJhj4jPqUq2mjk\n",
      "\n",
      "標題 : 強冷空氣來襲直逼寒流吳德榮：13日平地低溫探8度 - 風傳媒www.storm.mg › 國內\n",
      "網址 : /url?q=https://www.storm.mg/article/4722088&sa=U&ved=2ahUKEwiYh4LBiP-BAxXGcfUHHdvyA0EQFnoECAUQAg&usg=AOvVaw3tGW_ZfhE7M0OztApTTfHx\n",
      "\n",
      "標題 : 維尼哥哥科學選文16：任立渝∼寒流來了！www.bud.org.tw › Winnie › Winnie16\n",
      "網址 : /url?q=https://www.bud.org.tw/Winnie/Winnie16.htm&sa=U&ved=2ahUKEwiYh4LBiP-BAxXGcfUHHdvyA0EQFnoECAMQAg&usg=AOvVaw1rIutJc9P6UJnx5nO_ybrE\n",
      "\n",
      "標題 : 寒流接連來襲！呼籲民眾注意低溫對健康造成的危害 - 衛生福利部www.mohw.gov.tw › ...\n",
      "網址 : /url?q=https://www.mohw.gov.tw/cp-2640-23770-1.html&sa=U&ved=2ahUKEwiYh4LBiP-BAxXGcfUHHdvyA0EQFnoECAIQAg&usg=AOvVaw3o8MWaHh6ycS76SZzKBcYo\n",
      "\n",
      "標題 : 氣候百問| 交通部中央氣象署www.cwa.gov.tw › Encyclopedia › climate › climate3_list\n",
      "網址 : /url?q=https://www.cwa.gov.tw/V8/C/K/Encyclopedia/climate/climate3_list.html&sa=U&ved=2ahUKEwiYh4LBiP-BAxXGcfUHHdvyA0EQFnoECAcQAg&usg=AOvVaw1Q_TSH0jihV_eIqT0m3Bd7\n",
      "\n",
      "標題 : 過年罕見雙寒流全台「冷恭喜」 低溫剩3度- 生活 - 中時新聞網www.chinatimes.com › 生活\n",
      "網址 : /url?q=https://www.chinatimes.com/realtimenews/20230124000324-260405&sa=U&ved=2ahUKEwiYh4LBiP-BAxXGcfUHHdvyA0EQFnoECAYQAg&usg=AOvVaw3TDVsHWemXR1ZK0_tXfdA5\n",
      "\n",
      "標題 : 寒流來襲低溫保健8個要點 - 衛生福利部www.mohw.gov.tw › ...\n",
      "網址 : /url?q=https://www.mohw.gov.tw/cp-5275-72895-1.html&sa=U&ved=2ahUKEwiYh4LBiP-BAxXGcfUHHdvyA0EQFnoECAEQAg&usg=AOvVaw1WR-FO7jMpYLN1RBsblV7K\n",
      "\n"
     ]
    }
   ],
   "source": [
    "# Google Search\n",
    "import requests\n",
    "from bs4 import BeautifulSoup\n",
    "\n",
    "# google url\n",
    "google_url = 'https://www.google.com.tw/search'\n",
    "\n",
    "# parameter\n",
    "my_params = {'q': '寒流'}\n",
    "\n",
    "r = requests.get(google_url, params = my_params)\n",
    "\n",
    "soup = BeautifulSoup(r.text,'html.parser')\n",
    "\n",
    "#print(soup.prettify())\n",
    "\n",
    "items = soup.select('div.kCrYT > a[href^=\"/url\"]')\n",
    "#print(items)\n",
    "\n",
    "for i in items:\n",
    "    # 標題\n",
    "    print(\"標題 : \" + i.text)\n",
    "    # 網址\n",
    "    print(\"網址 : \" + i.get('href'))\n",
    "    print()"
   ]
  },
  {
   "cell_type": "code",
   "execution_count": null,
   "id": "7c461d78",
   "metadata": {},
   "outputs": [],
   "source": []
  }
 ],
 "metadata": {
  "kernelspec": {
   "display_name": "Python 3 (ipykernel)",
   "language": "python",
   "name": "python3"
  },
  "language_info": {
   "codemirror_mode": {
    "name": "ipython",
    "version": 3
   },
   "file_extension": ".py",
   "mimetype": "text/x-python",
   "name": "python",
   "nbconvert_exporter": "python",
   "pygments_lexer": "ipython3",
   "version": "3.11.5"
  }
 },
 "nbformat": 4,
 "nbformat_minor": 5
}
